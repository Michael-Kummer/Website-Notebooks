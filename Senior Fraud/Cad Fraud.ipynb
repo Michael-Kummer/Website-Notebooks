{
 "cells": [
  {
   "cell_type": "code",
   "execution_count": 43,
   "metadata": {
    "colab": {
     "base_uri": "https://localhost:8080/"
    },
    "executionInfo": {
     "elapsed": 1832,
     "status": "ok",
     "timestamp": 1739558640457,
     "user": {
      "displayName": "Michael Kummer",
      "userId": "13042466993889205075"
     },
     "user_tz": 420
    },
    "id": "HExV8oLGi_FA",
    "outputId": "d6987751-789d-42e4-dff3-6557fa4d77b1"
   },
   "outputs": [],
   "source": [
    "import pandas as pd\n",
    "import numpy as np\n",
    "from plotnine import *\n",
    "import os\n",
    "#from google.colab import drive\n",
    "#drive.mount('/content/drive')\n",
    "#os.chdir('/content/drive/My Drive/AD YR 2/Website project/Scams in Canada')\n",
    "os.getcwd()\n",
    "rawdata = pd.read_csv('43c67af5-e598-4a9b-a484-fe1cb5d775b5.csv')\n"
   ]
  },
  {
   "cell_type": "code",
   "execution_count": 44,
   "metadata": {
    "colab": {
     "base_uri": "https://localhost:8080/",
     "height": 474
    },
    "executionInfo": {
     "elapsed": 111,
     "status": "ok",
     "timestamp": 1739558641858,
     "user": {
      "displayName": "Michael Kummer",
      "userId": "13042466993889205075"
     },
     "user_tz": 420
    },
    "id": "va-qHB61q4yU",
    "outputId": "b9d1f5b7-8d51-4ee1-eee3-cc4a8665b93a"
   },
   "outputs": [
    {
     "data": {
      "text/html": [
       "<div>\n",
       "<style scoped>\n",
       "    .dataframe tbody tr th:only-of-type {\n",
       "        vertical-align: middle;\n",
       "    }\n",
       "\n",
       "    .dataframe tbody tr th {\n",
       "        vertical-align: top;\n",
       "    }\n",
       "\n",
       "    .dataframe thead th {\n",
       "        text-align: right;\n",
       "    }\n",
       "</style>\n",
       "<table border=\"1\" class=\"dataframe\">\n",
       "  <thead>\n",
       "    <tr style=\"text-align: right;\">\n",
       "      <th></th>\n",
       "      <th>Numero d'identification / Number ID</th>\n",
       "      <th>Date Received / Date recue</th>\n",
       "      <th>Complaint Received Type</th>\n",
       "      <th>Type de plainte recue</th>\n",
       "      <th>Country</th>\n",
       "      <th>Pays</th>\n",
       "      <th>Province/State</th>\n",
       "      <th>Province/Etat</th>\n",
       "      <th>Fraud and Cybercrime Thematic Categories</th>\n",
       "      <th>Categories thematiques sur la fraude et la cybercriminalite</th>\n",
       "      <th>...</th>\n",
       "      <th>Methode de sollicitation</th>\n",
       "      <th>Gender</th>\n",
       "      <th>Genre</th>\n",
       "      <th>Language of Correspondence</th>\n",
       "      <th>Langue de correspondance</th>\n",
       "      <th>Victim Age Range / Tranche d'age des victimes</th>\n",
       "      <th>Complaint Type</th>\n",
       "      <th>Type de plainte</th>\n",
       "      <th>Number of Victims / Nombre de victimes</th>\n",
       "      <th>Dollar Loss /pertes financieres</th>\n",
       "    </tr>\n",
       "  </thead>\n",
       "  <tbody>\n",
       "    <tr>\n",
       "      <th>0</th>\n",
       "      <td>1</td>\n",
       "      <td>2021-01-02</td>\n",
       "      <td>CAFC Website</td>\n",
       "      <td>CAFC site web</td>\n",
       "      <td>Canada</td>\n",
       "      <td>Canada</td>\n",
       "      <td>Nova Scotia</td>\n",
       "      <td>Nouvelle-Écosse</td>\n",
       "      <td>Phishing</td>\n",
       "      <td>Hameçonnage</td>\n",
       "      <td>...</td>\n",
       "      <td>Messages texte</td>\n",
       "      <td>Female</td>\n",
       "      <td>Femme</td>\n",
       "      <td>English</td>\n",
       "      <td>Anglais</td>\n",
       "      <td>'30 - 39</td>\n",
       "      <td>Attempt</td>\n",
       "      <td>Tentative</td>\n",
       "      <td>0</td>\n",
       "      <td>$0.00</td>\n",
       "    </tr>\n",
       "    <tr>\n",
       "      <th>1</th>\n",
       "      <td>2</td>\n",
       "      <td>2021-01-02</td>\n",
       "      <td>CAFC Website</td>\n",
       "      <td>CAFC site web</td>\n",
       "      <td>Canada</td>\n",
       "      <td>Canada</td>\n",
       "      <td>British Columbia</td>\n",
       "      <td>Colombie-Britanique</td>\n",
       "      <td>Identity Fraud</td>\n",
       "      <td>Fraude à l'identité</td>\n",
       "      <td>...</td>\n",
       "      <td>Autre/inconnu</td>\n",
       "      <td>Female</td>\n",
       "      <td>Femme</td>\n",
       "      <td>English</td>\n",
       "      <td>Anglais</td>\n",
       "      <td>'70 - 79</td>\n",
       "      <td>Victim</td>\n",
       "      <td>Victime</td>\n",
       "      <td>1</td>\n",
       "      <td>$0.00</td>\n",
       "    </tr>\n",
       "    <tr>\n",
       "      <th>2</th>\n",
       "      <td>3</td>\n",
       "      <td>2021-01-02</td>\n",
       "      <td>CAFC Website</td>\n",
       "      <td>CAFC site web</td>\n",
       "      <td>Not Specified</td>\n",
       "      <td>Non spécifié</td>\n",
       "      <td>Not Specified</td>\n",
       "      <td>Non spécifié</td>\n",
       "      <td>Romance</td>\n",
       "      <td>Romance</td>\n",
       "      <td>...</td>\n",
       "      <td>Autre/inconnu</td>\n",
       "      <td>Not Available</td>\n",
       "      <td>non disponible</td>\n",
       "      <td>Not Available</td>\n",
       "      <td>non disponible</td>\n",
       "      <td>'Not Available / non disponible</td>\n",
       "      <td>Victim</td>\n",
       "      <td>Victime</td>\n",
       "      <td>1</td>\n",
       "      <td>$298.00</td>\n",
       "    </tr>\n",
       "    <tr>\n",
       "      <th>3</th>\n",
       "      <td>4</td>\n",
       "      <td>2021-01-02</td>\n",
       "      <td>CAFC Website</td>\n",
       "      <td>CAFC site web</td>\n",
       "      <td>United States</td>\n",
       "      <td>États-Unis</td>\n",
       "      <td>California</td>\n",
       "      <td>Californie</td>\n",
       "      <td>Foreign Money Offer</td>\n",
       "      <td>Offre d’argent de l’étranger</td>\n",
       "      <td>...</td>\n",
       "      <td>Courrier</td>\n",
       "      <td>Male</td>\n",
       "      <td>Homme</td>\n",
       "      <td>English</td>\n",
       "      <td>Anglais</td>\n",
       "      <td>'60 - 69</td>\n",
       "      <td>Attempt</td>\n",
       "      <td>Tentative</td>\n",
       "      <td>0</td>\n",
       "      <td>$0.00</td>\n",
       "    </tr>\n",
       "    <tr>\n",
       "      <th>4</th>\n",
       "      <td>5</td>\n",
       "      <td>2021-01-02</td>\n",
       "      <td>CAFC Website</td>\n",
       "      <td>CAFC site web</td>\n",
       "      <td>Canada</td>\n",
       "      <td>Canada</td>\n",
       "      <td>Ontario</td>\n",
       "      <td>Ontario</td>\n",
       "      <td>Merchandise</td>\n",
       "      <td>Marchandise</td>\n",
       "      <td>...</td>\n",
       "      <td>Internet</td>\n",
       "      <td>Female</td>\n",
       "      <td>Femme</td>\n",
       "      <td>English</td>\n",
       "      <td>Anglais</td>\n",
       "      <td>'20 - 29</td>\n",
       "      <td>Victim</td>\n",
       "      <td>Victime</td>\n",
       "      <td>1</td>\n",
       "      <td>$50.00</td>\n",
       "    </tr>\n",
       "  </tbody>\n",
       "</table>\n",
       "<p>5 rows × 21 columns</p>\n",
       "</div>"
      ],
      "text/plain": [
       "   Numero d'identification / Number ID Date Received / Date recue  \\\n",
       "0                                    1                 2021-01-02   \n",
       "1                                    2                 2021-01-02   \n",
       "2                                    3                 2021-01-02   \n",
       "3                                    4                 2021-01-02   \n",
       "4                                    5                 2021-01-02   \n",
       "\n",
       "  Complaint Received Type Type de plainte recue        Country          Pays  \\\n",
       "0            CAFC Website         CAFC site web         Canada        Canada   \n",
       "1            CAFC Website         CAFC site web         Canada        Canada   \n",
       "2            CAFC Website         CAFC site web  Not Specified  Non spécifié   \n",
       "3            CAFC Website         CAFC site web  United States    États-Unis   \n",
       "4            CAFC Website         CAFC site web         Canada        Canada   \n",
       "\n",
       "     Province/State        Province/Etat  \\\n",
       "0       Nova Scotia      Nouvelle-Écosse   \n",
       "1  British Columbia  Colombie-Britanique   \n",
       "2     Not Specified         Non spécifié   \n",
       "3        California           Californie   \n",
       "4           Ontario              Ontario   \n",
       "\n",
       "  Fraud and Cybercrime Thematic Categories  \\\n",
       "0                                 Phishing   \n",
       "1                           Identity Fraud   \n",
       "2                                  Romance   \n",
       "3                      Foreign Money Offer   \n",
       "4                              Merchandise   \n",
       "\n",
       "  Categories thematiques sur la fraude et la cybercriminalite  ...  \\\n",
       "0                                        Hameçonnage           ...   \n",
       "1                                Fraude à l'identité           ...   \n",
       "2                                            Romance           ...   \n",
       "3                       Offre d’argent de l’étranger           ...   \n",
       "4                                        Marchandise           ...   \n",
       "\n",
       "  Methode de sollicitation         Gender           Genre  \\\n",
       "0           Messages texte         Female           Femme   \n",
       "1            Autre/inconnu         Female           Femme   \n",
       "2            Autre/inconnu  Not Available  non disponible   \n",
       "3                 Courrier           Male           Homme   \n",
       "4                 Internet         Female           Femme   \n",
       "\n",
       "  Language of Correspondence Langue de correspondance  \\\n",
       "0                    English                  Anglais   \n",
       "1                    English                  Anglais   \n",
       "2              Not Available           non disponible   \n",
       "3                    English                  Anglais   \n",
       "4                    English                  Anglais   \n",
       "\n",
       "  Victim Age Range / Tranche d'age des victimes Complaint Type  \\\n",
       "0                                      '30 - 39        Attempt   \n",
       "1                                      '70 - 79         Victim   \n",
       "2               'Not Available / non disponible         Victim   \n",
       "3                                      '60 - 69        Attempt   \n",
       "4                                      '20 - 29         Victim   \n",
       "\n",
       "  Type de plainte Number of Victims / Nombre de victimes  \\\n",
       "0       Tentative                                      0   \n",
       "1         Victime                                      1   \n",
       "2         Victime                                      1   \n",
       "3       Tentative                                      0   \n",
       "4         Victime                                      1   \n",
       "\n",
       "   Dollar Loss /pertes financieres  \n",
       "0                            $0.00  \n",
       "1                            $0.00  \n",
       "2                          $298.00  \n",
       "3                            $0.00  \n",
       "4                           $50.00  \n",
       "\n",
       "[5 rows x 21 columns]"
      ]
     },
     "execution_count": 44,
     "metadata": {},
     "output_type": "execute_result"
    }
   ],
   "source": [
    "rawdata.head()"
   ]
  },
  {
   "cell_type": "code",
   "execution_count": 45,
   "metadata": {
    "executionInfo": {
     "elapsed": 93,
     "status": "ok",
     "timestamp": 1739558642344,
     "user": {
      "displayName": "Michael Kummer",
      "userId": "13042466993889205075"
     },
     "user_tz": 420
    },
    "id": "QcayGzHnh-W2"
   },
   "outputs": [],
   "source": [
    "rawdata.head()\n",
    "\n",
    "rawdata = rawdata.drop([\"Type de plainte recue\",\n",
    "                        \"Categories thematiques sur la fraude et la cybercriminalite\",\n",
    "                        \"Genre\",\n",
    "                        \"Methode de sollicitation\",\n",
    "                        \"Type de plainte\",\n",
    "                        \"Langue de correspondance\"],axis=1)\n",
    "\n",
    "fraudData = rawdata.rename(columns={\"Numero d'identification / Number ID\": \"Number ID\", \"Date Received / Date recue\":\"Date Received\",\n",
    "                                    \"Victim Age Range / Tranche d'age des victimes\":  \"Victim Age Range\",\n",
    "                                    \"Number of Victims / Nombre de victimes\":\"Number of Victims\",\n",
    "                                    \"Dollar Loss /pertes financieres\":\"Dollar Loss\",\n",
    "                                    \"Province/Etat\":\"Province\",})"
   ]
  },
  {
   "cell_type": "code",
   "execution_count": 46,
   "metadata": {
    "colab": {
     "base_uri": "https://localhost:8080/",
     "height": 394
    },
    "executionInfo": {
     "elapsed": 96,
     "status": "ok",
     "timestamp": 1739558643576,
     "user": {
      "displayName": "Michael Kummer",
      "userId": "13042466993889205075"
     },
     "user_tz": 420
    },
    "id": "xQARJSWJrvPz",
    "outputId": "ea2e79ae-b88f-4fa3-f7e9-c9c25beae47a"
   },
   "outputs": [
    {
     "data": {
      "text/html": [
       "<div>\n",
       "<style scoped>\n",
       "    .dataframe tbody tr th:only-of-type {\n",
       "        vertical-align: middle;\n",
       "    }\n",
       "\n",
       "    .dataframe tbody tr th {\n",
       "        vertical-align: top;\n",
       "    }\n",
       "\n",
       "    .dataframe thead th {\n",
       "        text-align: right;\n",
       "    }\n",
       "</style>\n",
       "<table border=\"1\" class=\"dataframe\">\n",
       "  <thead>\n",
       "    <tr style=\"text-align: right;\">\n",
       "      <th></th>\n",
       "      <th>Number ID</th>\n",
       "      <th>Date Received</th>\n",
       "      <th>Complaint Received Type</th>\n",
       "      <th>Country</th>\n",
       "      <th>Pays</th>\n",
       "      <th>Province/State</th>\n",
       "      <th>Province</th>\n",
       "      <th>Fraud and Cybercrime Thematic Categories</th>\n",
       "      <th>Solicitation Method</th>\n",
       "      <th>Gender</th>\n",
       "      <th>Language of Correspondence</th>\n",
       "      <th>Victim Age Range</th>\n",
       "      <th>Complaint Type</th>\n",
       "      <th>Number of Victims</th>\n",
       "      <th>Dollar Loss</th>\n",
       "    </tr>\n",
       "  </thead>\n",
       "  <tbody>\n",
       "    <tr>\n",
       "      <th>0</th>\n",
       "      <td>1</td>\n",
       "      <td>2021-01-02</td>\n",
       "      <td>CAFC Website</td>\n",
       "      <td>Canada</td>\n",
       "      <td>Canada</td>\n",
       "      <td>Nova Scotia</td>\n",
       "      <td>Nouvelle-Écosse</td>\n",
       "      <td>Phishing</td>\n",
       "      <td>Text message</td>\n",
       "      <td>Female</td>\n",
       "      <td>English</td>\n",
       "      <td>'30 - 39</td>\n",
       "      <td>Attempt</td>\n",
       "      <td>0</td>\n",
       "      <td>$0.00</td>\n",
       "    </tr>\n",
       "    <tr>\n",
       "      <th>1</th>\n",
       "      <td>2</td>\n",
       "      <td>2021-01-02</td>\n",
       "      <td>CAFC Website</td>\n",
       "      <td>Canada</td>\n",
       "      <td>Canada</td>\n",
       "      <td>British Columbia</td>\n",
       "      <td>Colombie-Britanique</td>\n",
       "      <td>Identity Fraud</td>\n",
       "      <td>Other/unknown</td>\n",
       "      <td>Female</td>\n",
       "      <td>English</td>\n",
       "      <td>'70 - 79</td>\n",
       "      <td>Victim</td>\n",
       "      <td>1</td>\n",
       "      <td>$0.00</td>\n",
       "    </tr>\n",
       "    <tr>\n",
       "      <th>2</th>\n",
       "      <td>3</td>\n",
       "      <td>2021-01-02</td>\n",
       "      <td>CAFC Website</td>\n",
       "      <td>Not Specified</td>\n",
       "      <td>Non spécifié</td>\n",
       "      <td>Not Specified</td>\n",
       "      <td>Non spécifié</td>\n",
       "      <td>Romance</td>\n",
       "      <td>Other/unknown</td>\n",
       "      <td>Not Available</td>\n",
       "      <td>Not Available</td>\n",
       "      <td>'Not Available / non disponible</td>\n",
       "      <td>Victim</td>\n",
       "      <td>1</td>\n",
       "      <td>$298.00</td>\n",
       "    </tr>\n",
       "    <tr>\n",
       "      <th>3</th>\n",
       "      <td>4</td>\n",
       "      <td>2021-01-02</td>\n",
       "      <td>CAFC Website</td>\n",
       "      <td>United States</td>\n",
       "      <td>États-Unis</td>\n",
       "      <td>California</td>\n",
       "      <td>Californie</td>\n",
       "      <td>Foreign Money Offer</td>\n",
       "      <td>Mail</td>\n",
       "      <td>Male</td>\n",
       "      <td>English</td>\n",
       "      <td>'60 - 69</td>\n",
       "      <td>Attempt</td>\n",
       "      <td>0</td>\n",
       "      <td>$0.00</td>\n",
       "    </tr>\n",
       "    <tr>\n",
       "      <th>4</th>\n",
       "      <td>5</td>\n",
       "      <td>2021-01-02</td>\n",
       "      <td>CAFC Website</td>\n",
       "      <td>Canada</td>\n",
       "      <td>Canada</td>\n",
       "      <td>Ontario</td>\n",
       "      <td>Ontario</td>\n",
       "      <td>Merchandise</td>\n",
       "      <td>Internet</td>\n",
       "      <td>Female</td>\n",
       "      <td>English</td>\n",
       "      <td>'20 - 29</td>\n",
       "      <td>Victim</td>\n",
       "      <td>1</td>\n",
       "      <td>$50.00</td>\n",
       "    </tr>\n",
       "  </tbody>\n",
       "</table>\n",
       "</div>"
      ],
      "text/plain": [
       "   Number ID Date Received Complaint Received Type        Country  \\\n",
       "0          1    2021-01-02            CAFC Website         Canada   \n",
       "1          2    2021-01-02            CAFC Website         Canada   \n",
       "2          3    2021-01-02            CAFC Website  Not Specified   \n",
       "3          4    2021-01-02            CAFC Website  United States   \n",
       "4          5    2021-01-02            CAFC Website         Canada   \n",
       "\n",
       "           Pays    Province/State             Province  \\\n",
       "0        Canada       Nova Scotia      Nouvelle-Écosse   \n",
       "1        Canada  British Columbia  Colombie-Britanique   \n",
       "2  Non spécifié     Not Specified         Non spécifié   \n",
       "3    États-Unis        California           Californie   \n",
       "4        Canada           Ontario              Ontario   \n",
       "\n",
       "  Fraud and Cybercrime Thematic Categories Solicitation Method         Gender  \\\n",
       "0                                 Phishing        Text message         Female   \n",
       "1                           Identity Fraud       Other/unknown         Female   \n",
       "2                                  Romance       Other/unknown  Not Available   \n",
       "3                      Foreign Money Offer                Mail           Male   \n",
       "4                              Merchandise            Internet         Female   \n",
       "\n",
       "  Language of Correspondence                 Victim Age Range Complaint Type  \\\n",
       "0                    English                         '30 - 39        Attempt   \n",
       "1                    English                         '70 - 79         Victim   \n",
       "2              Not Available  'Not Available / non disponible         Victim   \n",
       "3                    English                         '60 - 69        Attempt   \n",
       "4                    English                         '20 - 29         Victim   \n",
       "\n",
       "   Number of Victims Dollar Loss  \n",
       "0                  0       $0.00  \n",
       "1                  1       $0.00  \n",
       "2                  1     $298.00  \n",
       "3                  0       $0.00  \n",
       "4                  1      $50.00  "
      ]
     },
     "execution_count": 46,
     "metadata": {},
     "output_type": "execute_result"
    }
   ],
   "source": [
    "fraudData.head()"
   ]
  },
  {
   "cell_type": "code",
   "execution_count": 47,
   "metadata": {
    "colab": {
     "base_uri": "https://localhost:8080/",
     "height": 548
    },
    "executionInfo": {
     "elapsed": 98,
     "status": "ok",
     "timestamp": 1739560089369,
     "user": {
      "displayName": "Michael Kummer",
      "userId": "13042466993889205075"
     },
     "user_tz": 420
    },
    "id": "k-orgqmo3FQw",
    "outputId": "7cbad3c4-93c5-4a53-ad37-53eb3fd082af"
   },
   "outputs": [
    {
     "data": {
      "text/plain": [
       "Victim Age Range\n",
       "'Not Available / non disponible    93712\n",
       "'30 - 39                           41255\n",
       "'60 - 69                           36318\n",
       "'40 - 49                           35907\n",
       "'20 - 29                           33347\n",
       "'50 - 59                           32915\n",
       "'70 - 79                           22417\n",
       "'10 - 19                            9620\n",
       "'80 - 89                            7117\n",
       "'90 - 99                             947\n",
       "'1 - 9                               173\n",
       "'Deceased / Décédé                   165\n",
       "'100 +                                60\n",
       "'Business / Entreprise                23\n",
       "Name: count, dtype: int64"
      ]
     },
     "execution_count": 47,
     "metadata": {},
     "output_type": "execute_result"
    }
   ],
   "source": [
    "fraudData[\"Victim Age Range\"].value_counts()"
   ]
  },
  {
   "cell_type": "code",
   "execution_count": 66,
   "metadata": {},
   "outputs": [
    {
     "data": {
      "text/plain": [
       "Fraud and Cybercrime Thematic Categories\n",
       "Identity Fraud                                72417\n",
       "Extortion                                     30228\n",
       "Phishing                                      27458\n",
       "Personal Info                                 25944\n",
       "Service                                       23897\n",
       "Investments                                   16709\n",
       "Merchandise                                   16225\n",
       "Bank Investigator                             13214\n",
       "Counterfeit Merchandise                       13128\n",
       "Job                                           12127\n",
       "Vendor Fraud                                   9608\n",
       "Other                                          9286\n",
       "Unknown                                        8724\n",
       "Emergency (Jail, Accident, Hospital, Help)     7422\n",
       "Romance                                        5810\n",
       "Spear Phishing                                 5645\n",
       "Prize                                          4370\n",
       "False Billing                                  1904\n",
       "GRANT                                          1713\n",
       "Loan                                           1706\n",
       "Collection Agency                              1352\n",
       "Recovery Pitch                                 1316\n",
       "Foreign Money Offer                            1276\n",
       "Incomplete                                      637\n",
       "Charity / Donation                              420\n",
       "Pyramid                                         289\n",
       "Spoofing                                        206\n",
       "Timeshare                                       177\n",
       "Psychics                                        136\n",
       "Vacation                                        131\n",
       "Survey                                          112\n",
       "Unauthorized Charge                              99\n",
       "Telecom Fraud                                    86\n",
       "Health                                           78\n",
       "Credit Card                                      60\n",
       "Directory                                        50\n",
       "Office Supplies                                  10\n",
       "Fraudulent Cheque                                 4\n",
       "Modem-Hijacking                                   2\n",
       "Name: count, dtype: int64"
      ]
     },
     "execution_count": 66,
     "metadata": {},
     "output_type": "execute_result"
    }
   ],
   "source": [
    "fraudData[\"Fraud and Cybercrime Thematic Categories\"].value_counts()\n",
    "#fraudData[\"Fraud and Cybercrime Thematic Categories\"].value_counts().sum()"
   ]
  },
  {
   "cell_type": "code",
   "execution_count": 62,
   "metadata": {
    "colab": {
     "base_uri": "https://localhost:8080/",
     "height": 537
    },
    "executionInfo": {
     "elapsed": 130,
     "status": "error",
     "timestamp": 1739561493196,
     "user": {
      "displayName": "Michael Kummer",
      "userId": "13042466993889205075"
     },
     "user_tz": 420
    },
    "id": "HalfQk13ss0P",
    "outputId": "6b30088c-5776-4544-870b-c88fd2dc0ff2"
   },
   "outputs": [],
   "source": [
    "senior_age_ranges = [\"'40 - 49\", \"'50 - 59\", \"'60 - 69\", \"'70 - 79\", \"'80 - 89\", \"'90 - 99\", \"'100 +\"]\n",
    "seniorsData = fraudData[fraudData[\"Victim Age Range\"].isin(senior_age_ranges)]\n",
    "seniorsData.loc[:,\"Date Received\"] = pd.to_datetime(seniorsData[\"Date Received\"])\n",
    "daily_counts = seniorsData.groupby(\"Date Received\").size().reset_index(name='Count')\n",
    "\n",
    "fraudData.loc[:,\"Date Received\"] = pd.to_datetime(fraudData[\"Date Received\"])"
   ]
  },
  {
   "cell_type": "code",
   "execution_count": 68,
   "metadata": {
    "colab": {
     "base_uri": "https://localhost:8080/",
     "height": 497
    },
    "executionInfo": {
     "elapsed": 74297,
     "status": "ok",
     "timestamp": 1739559307428,
     "user": {
      "displayName": "Michael Kummer",
      "userId": "13042466993889205075"
     },
     "user_tz": 420
    },
    "id": "rO7_QRfNtHJv",
    "outputId": "266e0bbb-8bb2-4e19-f64a-5ac8fa949646"
   },
   "outputs": [
    {
     "name": "stderr",
     "output_type": "stream",
     "text": [
      "/Users/michael/myenv/lib/python3.13/site-packages/pandas/core/groupby/grouper.py:381: FutureWarning: Dtype inference on a pandas object (Series, Index, ExtensionArray) is deprecated. The Index constructor will keep the original dtype in the future. Call `infer_objects` on the result to get the old behavior.\n",
      "/Users/michael/myenv/lib/python3.13/site-packages/pandas/core/groupby/grouper.py:381: FutureWarning: Dtype inference on a pandas object (Series, Index, ExtensionArray) is deprecated. The Index constructor will keep the original dtype in the future. Call `infer_objects` on the result to get the old behavior.\n"
     ]
    },
    {
     "data": {
      "image/png": "[encoded data removed]"
     },
     "metadata": {
      "image/png": {
       "height": 480,
       "width": 640
      }
     },
     "output_type": "display_data"
    }
   ],
   "source": [
    "# Resample to monthly counts\n",
    "monthlyCountsSenior = seniorsData.groupby(pd.Grouper(key='Date Received', freq='ME')).size().reset_index(name='count')\n",
    "monthlyCountsTotal = fraudData.groupby(pd.Grouper(key='Date Received', freq='ME')).size().reset_index(name='count')\n",
    "(ggplot()\n",
    " + geom_path(aes(x='Date Received', y='count'), data=monthlyCountsSenior)\n",
    " + geom_path(aes(x='Date Received', y='count'), data=monthlyCountsTotal)\n",
    " + theme_gray())"
   ]
  },
  {
   "cell_type": "code",
   "execution_count": 23,
   "metadata": {
    "executionInfo": {
     "elapsed": 4,
     "status": "ok",
     "timestamp": 1739559138378,
     "user": {
      "displayName": "Michael Kummer",
      "userId": "13042466993889205075"
     },
     "user_tz": 420
    },
    "id": "5_6xNRJnzZQ9"
   },
   "outputs": [
    {
     "data": {
      "text/plain": [
       "array(['$0.00', '$298.00', '$50.00', ..., '$5,566.76', '$81.48',\n",
       "       '$732.50'], shape=(22792,), dtype=object)"
      ]
     },
     "execution_count": 23,
     "metadata": {},
     "output_type": "execute_result"
    }
   ],
   "source": [
    "fraudData[\"Dollar Loss\"].unique()"
   ]
  },
  {
   "cell_type": "code",
   "execution_count": null,
   "metadata": {},
   "outputs": [],
   "source": []
  }
 ],
 "metadata": {
  "colab": {
   "authorship_tag": "ABX9TyMj01kULWuFjwtCe/C3g74f",
   "provenance": []
  },
  "kernelspec": {
   "display_name": "Python (myenv)",
   "language": "python",
   "name": "myenv"
  },
  "language_info": {
   "codemirror_mode": {
    "name": "ipython",
    "version": 3
   },
   "file_extension": ".py",
   "mimetype": "text/x-python",
   "name": "python",
   "nbconvert_exporter": "python",
   "pygments_lexer": "ipython3",
   "version": "3.13.0"
  }
 },
 "nbformat": 4,
 "nbformat_minor": 4
}
